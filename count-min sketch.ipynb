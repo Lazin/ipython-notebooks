{
 "metadata": {
  "name": ""
 },
 "nbformat": 3,
 "nbformat_minor": 0,
 "worksheets": [
  {
   "cells": [
    {
     "cell_type": "code",
     "collapsed": false,
     "input": [
      "from random import *\n",
      "\n",
      "N = 16\n",
      "T = 100*1000\n",
      "\n",
      "PRIMES = [121021, 121151, 150151, 151051, 151121, 180181, 180811, 181081, 2976221, \n",
      "          3021377, 6972593, 13466917, 20996011, 24036583, 25964951, 30402457]\n",
      "\n",
      "def generate_hash(max_n, prime):\n",
      "    p = prime\n",
      "    n = max_n\n",
      "    def hash_fn(val):\n",
      "        return (val*p) % n\n",
      "    return hash_fn\n",
      "\n",
      "class CountMinSketch:\n",
      "    def __init__(self):\n",
      "        self.tables = [[0]*T for _ in range(0, N)]\n",
      "        self.hashes = [generate_hash(T, PRIMES[i]) for i in range(0, N)]\n",
      "        \n",
      "    def add(self, val, count):\n",
      "        hashes = self.hashes\n",
      "        tables = self.tables\n",
      "        for ix in range(0, N):\n",
      "            h = hashes[ix](val)\n",
      "            tables[ix][h] += count\n",
      "    \n",
      "    def estimate(self, value):\n",
      "        results = []\n",
      "        tables = self.tables\n",
      "        hashes = self.hashes\n",
      "        for ix in range(0, N):\n",
      "            h = hashes[ix](value)\n",
      "            c = tables[ix][h]\n",
      "            results.append(c)\n",
      "        return min(results)"
     ],
     "language": "python",
     "metadata": {},
     "outputs": [],
     "prompt_number": 13
    },
    {
     "cell_type": "code",
     "collapsed": false,
     "input": [
      "seq1 = range(10000, 100000)\n",
      "sketch1 = CountMinSketch()\n",
      "for ix, x in enumerate(seq1):\n",
      "    sketch1.add(x, ix + 1)"
     ],
     "language": "python",
     "metadata": {},
     "outputs": [],
     "prompt_number": 10
    },
    {
     "cell_type": "code",
     "collapsed": false,
     "input": [
      "errors = []\n",
      "for ix, x in enumerate(seq1):\n",
      "    est = sketch1.estimate(x)\n",
      "    err = float(est - ix - 1)/(ix+1)\n",
      "    errors.append(err)"
     ],
     "language": "python",
     "metadata": {},
     "outputs": [],
     "prompt_number": 11
    },
    {
     "cell_type": "code",
     "collapsed": false,
     "input": [
      "sum(errors)"
     ],
     "language": "python",
     "metadata": {},
     "outputs": [
      {
       "metadata": {},
       "output_type": "pyout",
       "prompt_number": 12,
       "text": [
        "0.0"
       ]
      }
     ],
     "prompt_number": 12
    },
    {
     "cell_type": "code",
     "collapsed": false,
     "input": [],
     "language": "python",
     "metadata": {},
     "outputs": []
    }
   ],
   "metadata": {}
  }
 ]
}