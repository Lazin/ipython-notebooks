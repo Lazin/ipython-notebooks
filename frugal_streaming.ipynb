{
 "metadata": {
  "name": "Frugal streaming"
 },
 "nbformat": 3,
 "nbformat_minor": 0,
 "worksheets": [
  {
   "cells": [
    {
     "cell_type": "code",
     "collapsed": false,
     "input": "from random import shuffle",
     "language": "python",
     "metadata": {},
     "outputs": [],
     "prompt_number": 5
    },
    {
     "cell_type": "code",
     "collapsed": false,
     "input": "def frugal_1U(stream, original_est=0):\n    median_est = original_est\n    for val in stream:\n        if val > median_est:\n            median_est += 1\n        elif val < median_est:\n            median_est -= 1\n    return median_est",
     "language": "python",
     "metadata": {},
     "outputs": [],
     "prompt_number": 6
    },
    {
     "cell_type": "code",
     "collapsed": false,
     "input": "linear_stream = range(1, 100000)",
     "language": "python",
     "metadata": {},
     "outputs": [],
     "prompt_number": 7
    },
    {
     "cell_type": "code",
     "collapsed": false,
     "input": "random_stream = range(1, 100000)\nshuffle(random_stream)",
     "language": "python",
     "metadata": {},
     "outputs": [],
     "prompt_number": 8
    },
    {
     "cell_type": "markdown",
     "metadata": {},
     "source": "##Test with linear data"
    },
    {
     "cell_type": "code",
     "collapsed": false,
     "input": "frugal_1U(linear_stream)",
     "language": "python",
     "metadata": {},
     "outputs": [
      {
       "output_type": "pyout",
       "prompt_number": 10,
       "text": "99999"
      }
     ],
     "prompt_number": 10
    },
    {
     "cell_type": "code",
     "collapsed": false,
     "input": "frugal_1U(linear_stream, 50000)",
     "language": "python",
     "metadata": {},
     "outputs": [
      {
       "output_type": "pyout",
       "prompt_number": 11,
       "text": "99999"
      }
     ],
     "prompt_number": 11
    },
    {
     "cell_type": "markdown",
     "metadata": {},
     "source": "##Test with randomized data"
    },
    {
     "cell_type": "code",
     "collapsed": false,
     "input": "frugal_1U(random_stream)",
     "language": "python",
     "metadata": {},
     "outputs": [
      {
       "output_type": "pyout",
       "prompt_number": 12,
       "text": "43395"
      }
     ],
     "prompt_number": 12
    },
    {
     "cell_type": "code",
     "collapsed": false,
     "input": "frugal_1U(random_stream, 50000)",
     "language": "python",
     "metadata": {},
     "outputs": [
      {
       "output_type": "pyout",
       "prompt_number": 13,
       "text": "50159"
      }
     ],
     "prompt_number": 13
    }
   ],
   "metadata": {}
  }
 ]
}
